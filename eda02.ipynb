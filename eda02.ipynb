{
 "cells": [
  {
   "cell_type": "code",
   "execution_count": 1,
   "metadata": {},
   "outputs": [],
   "source": [
    "import pandas as pd\n",
    "import numpy as np\n",
    "import os"
   ]
  },
  {
   "cell_type": "code",
   "execution_count": 2,
   "metadata": {},
   "outputs": [],
   "source": [
    "pd.options.display.float_format = '{:,.2f}'.format"
   ]
  },
  {
   "cell_type": "code",
   "execution_count": 3,
   "metadata": {},
   "outputs": [],
   "source": [
    "#pd.reset_option('display.float_format')"
   ]
  },
  {
   "cell_type": "code",
   "execution_count": 4,
   "metadata": {},
   "outputs": [],
   "source": [
    "#print(os.path.basename(\"C:/Users/.../Documents/GitHub/dataset/2019-Oct.csv\"))"
   ]
  },
  {
   "cell_type": "code",
   "execution_count": 5,
   "metadata": {},
   "outputs": [],
   "source": [
    "#print(os.listdir(\"C:/Users/.../Documents/GitHub/dataset\"))"
   ]
  },
  {
   "cell_type": "code",
   "execution_count": 6,
   "metadata": {},
   "outputs": [
    {
     "name": "stdout",
     "output_type": "stream",
     "text": [
      "['dataset', 'EDA', 'minimal-mistakes']\n"
     ]
    }
   ],
   "source": [
    "print(os.listdir(os.path.abspath(os.path.join(os.getcwd(), os.pardir))))"
   ]
  },
  {
   "cell_type": "markdown",
   "metadata": {},
   "source": [
    "### CSV 파일 import"
   ]
  },
  {
   "cell_type": "code",
   "execution_count": 7,
   "metadata": {},
   "outputs": [],
   "source": [
    "results_df2 = pd.read_csv(os.path.abspath(os.path.join(os.getcwd(), os.pardir)) + \"\\\\dataset\\\\2019-Oct.csv\", sep=',', header=0)"
   ]
  },
  {
   "cell_type": "code",
   "execution_count": 8,
   "metadata": {},
   "outputs": [
    {
     "data": {
      "text/plain": [
       "pandas.core.frame.DataFrame"
      ]
     },
     "execution_count": 8,
     "metadata": {},
     "output_type": "execute_result"
    }
   ],
   "source": [
    "type(results_df2)"
   ]
  },
  {
   "cell_type": "code",
   "execution_count": 9,
   "metadata": {},
   "outputs": [
    {
     "data": {
      "text/plain": [
       "(42448764, 9)"
      ]
     },
     "execution_count": 9,
     "metadata": {},
     "output_type": "execute_result"
    }
   ],
   "source": [
    "results_df2.shape"
   ]
  },
  {
   "cell_type": "code",
   "execution_count": 10,
   "metadata": {},
   "outputs": [
    {
     "data": {
      "text/plain": [
       "Index(['event_time', 'event_type', 'product_id', 'category_id',\n",
       "       'category_code', 'brand', 'price', 'user_id', 'user_session'],\n",
       "      dtype='object')"
      ]
     },
     "execution_count": 10,
     "metadata": {},
     "output_type": "execute_result"
    }
   ],
   "source": [
    "results_df2.columns"
   ]
  },
  {
   "cell_type": "code",
   "execution_count": 11,
   "metadata": {
    "scrolled": true
   },
   "outputs": [
    {
     "data": {
      "text/html": [
       "<div>\n",
       "<style scoped>\n",
       "    .dataframe tbody tr th:only-of-type {\n",
       "        vertical-align: middle;\n",
       "    }\n",
       "\n",
       "    .dataframe tbody tr th {\n",
       "        vertical-align: top;\n",
       "    }\n",
       "\n",
       "    .dataframe thead th {\n",
       "        text-align: right;\n",
       "    }\n",
       "</style>\n",
       "<table border=\"1\" class=\"dataframe\">\n",
       "  <thead>\n",
       "    <tr style=\"text-align: right;\">\n",
       "      <th></th>\n",
       "      <th>event_time</th>\n",
       "      <th>event_type</th>\n",
       "      <th>product_id</th>\n",
       "      <th>category_id</th>\n",
       "      <th>category_code</th>\n",
       "      <th>brand</th>\n",
       "      <th>price</th>\n",
       "      <th>user_id</th>\n",
       "      <th>user_session</th>\n",
       "    </tr>\n",
       "  </thead>\n",
       "  <tbody>\n",
       "    <tr>\n",
       "      <th>0</th>\n",
       "      <td>2019-10-01 00:00:00 UTC</td>\n",
       "      <td>view</td>\n",
       "      <td>44600062</td>\n",
       "      <td>2103807459595387724</td>\n",
       "      <td>NaN</td>\n",
       "      <td>shiseido</td>\n",
       "      <td>35.79</td>\n",
       "      <td>541312140</td>\n",
       "      <td>72d76fde-8bb3-4e00-8c23-a032dfed738c</td>\n",
       "    </tr>\n",
       "    <tr>\n",
       "      <th>1</th>\n",
       "      <td>2019-10-01 00:00:00 UTC</td>\n",
       "      <td>view</td>\n",
       "      <td>3900821</td>\n",
       "      <td>2053013552326770905</td>\n",
       "      <td>appliances.environment.water_heater</td>\n",
       "      <td>aqua</td>\n",
       "      <td>33.20</td>\n",
       "      <td>554748717</td>\n",
       "      <td>9333dfbd-b87a-4708-9857-6336556b0fcc</td>\n",
       "    </tr>\n",
       "    <tr>\n",
       "      <th>2</th>\n",
       "      <td>2019-10-01 00:00:01 UTC</td>\n",
       "      <td>view</td>\n",
       "      <td>17200506</td>\n",
       "      <td>2053013559792632471</td>\n",
       "      <td>furniture.living_room.sofa</td>\n",
       "      <td>NaN</td>\n",
       "      <td>543.10</td>\n",
       "      <td>519107250</td>\n",
       "      <td>566511c2-e2e3-422b-b695-cf8e6e792ca8</td>\n",
       "    </tr>\n",
       "    <tr>\n",
       "      <th>3</th>\n",
       "      <td>2019-10-01 00:00:01 UTC</td>\n",
       "      <td>view</td>\n",
       "      <td>1307067</td>\n",
       "      <td>2053013558920217191</td>\n",
       "      <td>computers.notebook</td>\n",
       "      <td>lenovo</td>\n",
       "      <td>251.74</td>\n",
       "      <td>550050854</td>\n",
       "      <td>7c90fc70-0e80-4590-96f3-13c02c18c713</td>\n",
       "    </tr>\n",
       "    <tr>\n",
       "      <th>4</th>\n",
       "      <td>2019-10-01 00:00:04 UTC</td>\n",
       "      <td>view</td>\n",
       "      <td>1004237</td>\n",
       "      <td>2053013555631882655</td>\n",
       "      <td>electronics.smartphone</td>\n",
       "      <td>apple</td>\n",
       "      <td>1,081.98</td>\n",
       "      <td>535871217</td>\n",
       "      <td>c6bd7419-2748-4c56-95b4-8cec9ff8b80d</td>\n",
       "    </tr>\n",
       "  </tbody>\n",
       "</table>\n",
       "</div>"
      ],
      "text/plain": [
       "                event_time event_type  product_id          category_id  \\\n",
       "0  2019-10-01 00:00:00 UTC       view    44600062  2103807459595387724   \n",
       "1  2019-10-01 00:00:00 UTC       view     3900821  2053013552326770905   \n",
       "2  2019-10-01 00:00:01 UTC       view    17200506  2053013559792632471   \n",
       "3  2019-10-01 00:00:01 UTC       view     1307067  2053013558920217191   \n",
       "4  2019-10-01 00:00:04 UTC       view     1004237  2053013555631882655   \n",
       "\n",
       "                         category_code     brand    price    user_id  \\\n",
       "0                                  NaN  shiseido    35.79  541312140   \n",
       "1  appliances.environment.water_heater      aqua    33.20  554748717   \n",
       "2           furniture.living_room.sofa       NaN   543.10  519107250   \n",
       "3                   computers.notebook    lenovo   251.74  550050854   \n",
       "4               electronics.smartphone     apple 1,081.98  535871217   \n",
       "\n",
       "                           user_session  \n",
       "0  72d76fde-8bb3-4e00-8c23-a032dfed738c  \n",
       "1  9333dfbd-b87a-4708-9857-6336556b0fcc  \n",
       "2  566511c2-e2e3-422b-b695-cf8e6e792ca8  \n",
       "3  7c90fc70-0e80-4590-96f3-13c02c18c713  \n",
       "4  c6bd7419-2748-4c56-95b4-8cec9ff8b80d  "
      ]
     },
     "execution_count": 11,
     "metadata": {},
     "output_type": "execute_result"
    }
   ],
   "source": [
    "results_df2.head()"
   ]
  },
  {
   "cell_type": "code",
   "execution_count": 13,
   "metadata": {},
   "outputs": [],
   "source": [
    "results_df2['event_time'] = results_df2['event_time'].str.replace(\" UTC\", \"\")"
   ]
  },
  {
   "cell_type": "code",
   "execution_count": 14,
   "metadata": {},
   "outputs": [],
   "source": [
    "results_df2['key'] = results_df2['user_id'].astype(str) + results_df2['user_session'].astype(str)"
   ]
  },
  {
   "cell_type": "code",
   "execution_count": 15,
   "metadata": {},
   "outputs": [],
   "source": [
    "results_df2['category_lcd'] = results_df2.category_code.str.split('.').str[0]"
   ]
  },
  {
   "cell_type": "code",
   "execution_count": 17,
   "metadata": {},
   "outputs": [],
   "source": [
    "results_df2['category_mcd'] = results_df2.category_code.str.split('.').str[1]"
   ]
  },
  {
   "cell_type": "code",
   "execution_count": 18,
   "metadata": {},
   "outputs": [],
   "source": [
    "results_df2['category_scd'] = results_df2.category_code.str.split('.').str[2]"
   ]
  },
  {
   "cell_type": "code",
   "execution_count": 20,
   "metadata": {},
   "outputs": [],
   "source": [
    "results_df2.to_csv(\"2019-Oct_new.csv\")"
   ]
  },
  {
   "cell_type": "code",
   "execution_count": 21,
   "metadata": {},
   "outputs": [
    {
     "data": {
      "text/html": [
       "<div>\n",
       "<style scoped>\n",
       "    .dataframe tbody tr th:only-of-type {\n",
       "        vertical-align: middle;\n",
       "    }\n",
       "\n",
       "    .dataframe tbody tr th {\n",
       "        vertical-align: top;\n",
       "    }\n",
       "\n",
       "    .dataframe thead th {\n",
       "        text-align: right;\n",
       "    }\n",
       "</style>\n",
       "<table border=\"1\" class=\"dataframe\">\n",
       "  <thead>\n",
       "    <tr style=\"text-align: right;\">\n",
       "      <th></th>\n",
       "      <th>event_time</th>\n",
       "      <th>event_type</th>\n",
       "      <th>product_id</th>\n",
       "      <th>category_id</th>\n",
       "      <th>category_code</th>\n",
       "      <th>brand</th>\n",
       "      <th>price</th>\n",
       "      <th>user_id</th>\n",
       "      <th>user_session</th>\n",
       "      <th>key</th>\n",
       "      <th>category_lcd</th>\n",
       "      <th>category_mcd</th>\n",
       "      <th>category_scd</th>\n",
       "    </tr>\n",
       "  </thead>\n",
       "  <tbody>\n",
       "    <tr>\n",
       "      <th>0</th>\n",
       "      <td>2019-10-01 00:00:00</td>\n",
       "      <td>view</td>\n",
       "      <td>44600062</td>\n",
       "      <td>2103807459595387724</td>\n",
       "      <td>NaN</td>\n",
       "      <td>shiseido</td>\n",
       "      <td>35.79</td>\n",
       "      <td>541312140</td>\n",
       "      <td>72d76fde-8bb3-4e00-8c23-a032dfed738c</td>\n",
       "      <td>54131214072d76fde-8bb3-4e00-8c23-a032dfed738c</td>\n",
       "      <td>NaN</td>\n",
       "      <td>NaN</td>\n",
       "      <td>NaN</td>\n",
       "    </tr>\n",
       "    <tr>\n",
       "      <th>1</th>\n",
       "      <td>2019-10-01 00:00:00</td>\n",
       "      <td>view</td>\n",
       "      <td>3900821</td>\n",
       "      <td>2053013552326770905</td>\n",
       "      <td>appliances.environment.water_heater</td>\n",
       "      <td>aqua</td>\n",
       "      <td>33.20</td>\n",
       "      <td>554748717</td>\n",
       "      <td>9333dfbd-b87a-4708-9857-6336556b0fcc</td>\n",
       "      <td>5547487179333dfbd-b87a-4708-9857-6336556b0fcc</td>\n",
       "      <td>appliances</td>\n",
       "      <td>environment</td>\n",
       "      <td>water_heater</td>\n",
       "    </tr>\n",
       "    <tr>\n",
       "      <th>2</th>\n",
       "      <td>2019-10-01 00:00:01</td>\n",
       "      <td>view</td>\n",
       "      <td>17200506</td>\n",
       "      <td>2053013559792632471</td>\n",
       "      <td>furniture.living_room.sofa</td>\n",
       "      <td>NaN</td>\n",
       "      <td>543.10</td>\n",
       "      <td>519107250</td>\n",
       "      <td>566511c2-e2e3-422b-b695-cf8e6e792ca8</td>\n",
       "      <td>519107250566511c2-e2e3-422b-b695-cf8e6e792ca8</td>\n",
       "      <td>furniture</td>\n",
       "      <td>living_room</td>\n",
       "      <td>sofa</td>\n",
       "    </tr>\n",
       "    <tr>\n",
       "      <th>3</th>\n",
       "      <td>2019-10-01 00:00:01</td>\n",
       "      <td>view</td>\n",
       "      <td>1307067</td>\n",
       "      <td>2053013558920217191</td>\n",
       "      <td>computers.notebook</td>\n",
       "      <td>lenovo</td>\n",
       "      <td>251.74</td>\n",
       "      <td>550050854</td>\n",
       "      <td>7c90fc70-0e80-4590-96f3-13c02c18c713</td>\n",
       "      <td>5500508547c90fc70-0e80-4590-96f3-13c02c18c713</td>\n",
       "      <td>computers</td>\n",
       "      <td>notebook</td>\n",
       "      <td>NaN</td>\n",
       "    </tr>\n",
       "    <tr>\n",
       "      <th>4</th>\n",
       "      <td>2019-10-01 00:00:04</td>\n",
       "      <td>view</td>\n",
       "      <td>1004237</td>\n",
       "      <td>2053013555631882655</td>\n",
       "      <td>electronics.smartphone</td>\n",
       "      <td>apple</td>\n",
       "      <td>1,081.98</td>\n",
       "      <td>535871217</td>\n",
       "      <td>c6bd7419-2748-4c56-95b4-8cec9ff8b80d</td>\n",
       "      <td>535871217c6bd7419-2748-4c56-95b4-8cec9ff8b80d</td>\n",
       "      <td>electronics</td>\n",
       "      <td>smartphone</td>\n",
       "      <td>NaN</td>\n",
       "    </tr>\n",
       "  </tbody>\n",
       "</table>\n",
       "</div>"
      ],
      "text/plain": [
       "            event_time event_type  product_id          category_id  \\\n",
       "0  2019-10-01 00:00:00       view    44600062  2103807459595387724   \n",
       "1  2019-10-01 00:00:00       view     3900821  2053013552326770905   \n",
       "2  2019-10-01 00:00:01       view    17200506  2053013559792632471   \n",
       "3  2019-10-01 00:00:01       view     1307067  2053013558920217191   \n",
       "4  2019-10-01 00:00:04       view     1004237  2053013555631882655   \n",
       "\n",
       "                         category_code     brand    price    user_id  \\\n",
       "0                                  NaN  shiseido    35.79  541312140   \n",
       "1  appliances.environment.water_heater      aqua    33.20  554748717   \n",
       "2           furniture.living_room.sofa       NaN   543.10  519107250   \n",
       "3                   computers.notebook    lenovo   251.74  550050854   \n",
       "4               electronics.smartphone     apple 1,081.98  535871217   \n",
       "\n",
       "                           user_session  \\\n",
       "0  72d76fde-8bb3-4e00-8c23-a032dfed738c   \n",
       "1  9333dfbd-b87a-4708-9857-6336556b0fcc   \n",
       "2  566511c2-e2e3-422b-b695-cf8e6e792ca8   \n",
       "3  7c90fc70-0e80-4590-96f3-13c02c18c713   \n",
       "4  c6bd7419-2748-4c56-95b4-8cec9ff8b80d   \n",
       "\n",
       "                                             key category_lcd category_mcd  \\\n",
       "0  54131214072d76fde-8bb3-4e00-8c23-a032dfed738c          NaN          NaN   \n",
       "1  5547487179333dfbd-b87a-4708-9857-6336556b0fcc   appliances  environment   \n",
       "2  519107250566511c2-e2e3-422b-b695-cf8e6e792ca8    furniture  living_room   \n",
       "3  5500508547c90fc70-0e80-4590-96f3-13c02c18c713    computers     notebook   \n",
       "4  535871217c6bd7419-2748-4c56-95b4-8cec9ff8b80d  electronics   smartphone   \n",
       "\n",
       "   category_scd  \n",
       "0           NaN  \n",
       "1  water_heater  \n",
       "2          sofa  \n",
       "3           NaN  \n",
       "4           NaN  "
      ]
     },
     "execution_count": 21,
     "metadata": {},
     "output_type": "execute_result"
    }
   ],
   "source": [
    "results_df2.head()"
   ]
  },
  {
   "cell_type": "code",
   "execution_count": 22,
   "metadata": {},
   "outputs": [
    {
     "name": "stdout",
     "output_type": "stream",
     "text": [
      "event_time        object\n",
      "event_type        object\n",
      "product_id         int64\n",
      "category_id        int64\n",
      "category_code     object\n",
      "brand             object\n",
      "price            float64\n",
      "user_id            int64\n",
      "user_session      object\n",
      "key               object\n",
      "category_lcd      object\n",
      "category_mcd      object\n",
      "category_scd      object\n",
      "dtype: object\n"
     ]
    }
   ],
   "source": [
    "print(results_df2.dtypes)"
   ]
  },
  {
   "cell_type": "code",
   "execution_count": 23,
   "metadata": {},
   "outputs": [],
   "source": [
    "brand = results_df2['brand'].unique()"
   ]
  },
  {
   "cell_type": "code",
   "execution_count": 24,
   "metadata": {},
   "outputs": [
    {
     "data": {
      "text/plain": [
       "array(['shiseido', 'aqua', nan, ..., 'ecolaboratorie', 'organicshop',\n",
       "       'skindoctors'], dtype=object)"
      ]
     },
     "execution_count": 24,
     "metadata": {},
     "output_type": "execute_result"
    }
   ],
   "source": [
    "brand"
   ]
  },
  {
   "cell_type": "code",
   "execution_count": 25,
   "metadata": {},
   "outputs": [
    {
     "data": {
      "text/plain": [
       "numpy.ndarray"
      ]
     },
     "execution_count": 25,
     "metadata": {},
     "output_type": "execute_result"
    }
   ],
   "source": [
    "type(brand)"
   ]
  },
  {
   "cell_type": "code",
   "execution_count": 26,
   "metadata": {},
   "outputs": [
    {
     "data": {
      "text/plain": [
       "samsung       5282775\n",
       "apple         4122554\n",
       "xiaomi        3083763\n",
       "huawei        1111205\n",
       "lucente        655861\n",
       "               ...   \n",
       "kumanodeve          1\n",
       "goldenrose          1\n",
       "fireball            1\n",
       "grand               1\n",
       "ubtech              1\n",
       "Name: brand, Length: 3444, dtype: int64"
      ]
     },
     "execution_count": 26,
     "metadata": {},
     "output_type": "execute_result"
    }
   ],
   "source": [
    "results_df2.brand.value_counts()"
   ]
  },
  {
   "cell_type": "code",
   "execution_count": 27,
   "metadata": {},
   "outputs": [],
   "source": [
    "brd_uniq = pd.DataFrame(results_df2['brand'].unique(), columns = ['brd'])"
   ]
  },
  {
   "cell_type": "code",
   "execution_count": 28,
   "metadata": {},
   "outputs": [
    {
     "data": {
      "text/html": [
       "<div>\n",
       "<style scoped>\n",
       "    .dataframe tbody tr th:only-of-type {\n",
       "        vertical-align: middle;\n",
       "    }\n",
       "\n",
       "    .dataframe tbody tr th {\n",
       "        vertical-align: top;\n",
       "    }\n",
       "\n",
       "    .dataframe thead th {\n",
       "        text-align: right;\n",
       "    }\n",
       "</style>\n",
       "<table border=\"1\" class=\"dataframe\">\n",
       "  <thead>\n",
       "    <tr style=\"text-align: right;\">\n",
       "      <th></th>\n",
       "      <th>brd</th>\n",
       "    </tr>\n",
       "  </thead>\n",
       "  <tbody>\n",
       "    <tr>\n",
       "      <th>0</th>\n",
       "      <td>shiseido</td>\n",
       "    </tr>\n",
       "    <tr>\n",
       "      <th>1</th>\n",
       "      <td>aqua</td>\n",
       "    </tr>\n",
       "    <tr>\n",
       "      <th>2</th>\n",
       "      <td>NaN</td>\n",
       "    </tr>\n",
       "    <tr>\n",
       "      <th>3</th>\n",
       "      <td>lenovo</td>\n",
       "    </tr>\n",
       "    <tr>\n",
       "      <th>4</th>\n",
       "      <td>apple</td>\n",
       "    </tr>\n",
       "    <tr>\n",
       "      <th>...</th>\n",
       "      <td>...</td>\n",
       "    </tr>\n",
       "    <tr>\n",
       "      <th>3440</th>\n",
       "      <td>naturakamchatka</td>\n",
       "    </tr>\n",
       "    <tr>\n",
       "      <th>3441</th>\n",
       "      <td>milk</td>\n",
       "    </tr>\n",
       "    <tr>\n",
       "      <th>3442</th>\n",
       "      <td>ecolaboratorie</td>\n",
       "    </tr>\n",
       "    <tr>\n",
       "      <th>3443</th>\n",
       "      <td>organicshop</td>\n",
       "    </tr>\n",
       "    <tr>\n",
       "      <th>3444</th>\n",
       "      <td>skindoctors</td>\n",
       "    </tr>\n",
       "  </tbody>\n",
       "</table>\n",
       "<p>3445 rows × 1 columns</p>\n",
       "</div>"
      ],
      "text/plain": [
       "                  brd\n",
       "0            shiseido\n",
       "1                aqua\n",
       "2                 NaN\n",
       "3              lenovo\n",
       "4               apple\n",
       "...               ...\n",
       "3440  naturakamchatka\n",
       "3441             milk\n",
       "3442   ecolaboratorie\n",
       "3443      organicshop\n",
       "3444      skindoctors\n",
       "\n",
       "[3445 rows x 1 columns]"
      ]
     },
     "execution_count": 28,
     "metadata": {},
     "output_type": "execute_result"
    }
   ],
   "source": [
    "brd_uniq"
   ]
  },
  {
   "cell_type": "code",
   "execution_count": 29,
   "metadata": {},
   "outputs": [
    {
     "data": {
      "text/plain": [
       "(3445, 1)"
      ]
     },
     "execution_count": 29,
     "metadata": {},
     "output_type": "execute_result"
    }
   ],
   "source": [
    "brd_uniq.shape"
   ]
  },
  {
   "cell_type": "code",
   "execution_count": 30,
   "metadata": {},
   "outputs": [
    {
     "data": {
      "text/plain": [
       "dynamic       1\n",
       "nintendo      1\n",
       "force         1\n",
       "herman        1\n",
       "ovk           1\n",
       "             ..\n",
       "sly           1\n",
       "sdt           1\n",
       "miumiu        1\n",
       "qazprotein    1\n",
       "lujun         1\n",
       "Name: brd, Length: 3444, dtype: int64"
      ]
     },
     "execution_count": 30,
     "metadata": {},
     "output_type": "execute_result"
    }
   ],
   "source": [
    "brd_uniq.brd.value_counts()"
   ]
  },
  {
   "cell_type": "code",
   "execution_count": 28,
   "metadata": {},
   "outputs": [],
   "source": [
    "# results_df2['key'].describe()"
   ]
  },
  {
   "cell_type": "code",
   "execution_count": 29,
   "metadata": {},
   "outputs": [],
   "source": [
    "# results_df2.sort_values(by=[\"key\"], ascending=True)"
   ]
  },
  {
   "cell_type": "code",
   "execution_count": 31,
   "metadata": {},
   "outputs": [
    {
     "data": {
      "text/plain": [
       "count                                 42448762\n",
       "unique                                 9244421\n",
       "top       fb075266-182d-4c11-b5f7-4e4dcdabd4a7\n",
       "freq                                      1159\n",
       "Name: user_session, dtype: object"
      ]
     },
     "execution_count": 31,
     "metadata": {},
     "output_type": "execute_result"
    }
   ],
   "source": [
    "results_df2['user_session'].describe()"
   ]
  },
  {
   "cell_type": "code",
   "execution_count": 32,
   "metadata": {},
   "outputs": [],
   "source": [
    "# results_df2.sort_values(by=[\"user_session\"], ascending=True)"
   ]
  },
  {
   "cell_type": "code",
   "execution_count": 33,
   "metadata": {},
   "outputs": [],
   "source": [
    "# results_df2.sort_values(by=[\"key\", \"event_time\"], ascending=True)"
   ]
  },
  {
   "cell_type": "code",
   "execution_count": 34,
   "metadata": {},
   "outputs": [],
   "source": [
    "rdf_typ = pd.DataFrame(results_df2['event_type'].unique(), columns = ['typ'])"
   ]
  },
  {
   "cell_type": "code",
   "execution_count": 35,
   "metadata": {},
   "outputs": [
    {
     "data": {
      "text/html": [
       "<div>\n",
       "<style scoped>\n",
       "    .dataframe tbody tr th:only-of-type {\n",
       "        vertical-align: middle;\n",
       "    }\n",
       "\n",
       "    .dataframe tbody tr th {\n",
       "        vertical-align: top;\n",
       "    }\n",
       "\n",
       "    .dataframe thead th {\n",
       "        text-align: right;\n",
       "    }\n",
       "</style>\n",
       "<table border=\"1\" class=\"dataframe\">\n",
       "  <thead>\n",
       "    <tr style=\"text-align: right;\">\n",
       "      <th></th>\n",
       "      <th>typ</th>\n",
       "    </tr>\n",
       "  </thead>\n",
       "  <tbody>\n",
       "    <tr>\n",
       "      <th>0</th>\n",
       "      <td>view</td>\n",
       "    </tr>\n",
       "    <tr>\n",
       "      <th>1</th>\n",
       "      <td>purchase</td>\n",
       "    </tr>\n",
       "    <tr>\n",
       "      <th>2</th>\n",
       "      <td>cart</td>\n",
       "    </tr>\n",
       "  </tbody>\n",
       "</table>\n",
       "</div>"
      ],
      "text/plain": [
       "        typ\n",
       "0      view\n",
       "1  purchase\n",
       "2      cart"
      ]
     },
     "execution_count": 35,
     "metadata": {},
     "output_type": "execute_result"
    }
   ],
   "source": [
    "rdf_typ.head()"
   ]
  },
  {
   "cell_type": "code",
   "execution_count": 36,
   "metadata": {},
   "outputs": [
    {
     "data": {
      "text/plain": [
       "view        40779399\n",
       "cart          926516\n",
       "purchase      742849\n",
       "Name: event_type, dtype: int64"
      ]
     },
     "execution_count": 36,
     "metadata": {},
     "output_type": "execute_result"
    }
   ],
   "source": [
    "results_df2['event_type'].value_counts()"
   ]
  },
  {
   "cell_type": "code",
   "execution_count": 37,
   "metadata": {},
   "outputs": [
    {
     "data": {
      "text/html": [
       "<div>\n",
       "<style scoped>\n",
       "    .dataframe tbody tr th:only-of-type {\n",
       "        vertical-align: middle;\n",
       "    }\n",
       "\n",
       "    .dataframe tbody tr th {\n",
       "        vertical-align: top;\n",
       "    }\n",
       "\n",
       "    .dataframe thead th {\n",
       "        text-align: right;\n",
       "    }\n",
       "</style>\n",
       "<table border=\"1\" class=\"dataframe\">\n",
       "  <thead>\n",
       "    <tr style=\"text-align: right;\">\n",
       "      <th></th>\n",
       "      <th>event_time</th>\n",
       "      <th>event_type</th>\n",
       "      <th>product_id</th>\n",
       "      <th>category_id</th>\n",
       "      <th>category_code</th>\n",
       "      <th>brand</th>\n",
       "      <th>price</th>\n",
       "      <th>user_id</th>\n",
       "      <th>user_session</th>\n",
       "      <th>key</th>\n",
       "      <th>category_lcd</th>\n",
       "      <th>category_mcd</th>\n",
       "      <th>category_scd</th>\n",
       "    </tr>\n",
       "  </thead>\n",
       "  <tbody>\n",
       "    <tr>\n",
       "      <th>0</th>\n",
       "      <td>2019-10-01 00:00:00</td>\n",
       "      <td>view</td>\n",
       "      <td>44600062</td>\n",
       "      <td>2103807459595387724</td>\n",
       "      <td>NaN</td>\n",
       "      <td>shiseido</td>\n",
       "      <td>35.79</td>\n",
       "      <td>541312140</td>\n",
       "      <td>72d76fde-8bb3-4e00-8c23-a032dfed738c</td>\n",
       "      <td>54131214072d76fde-8bb3-4e00-8c23-a032dfed738c</td>\n",
       "      <td>NaN</td>\n",
       "      <td>NaN</td>\n",
       "      <td>NaN</td>\n",
       "    </tr>\n",
       "    <tr>\n",
       "      <th>1</th>\n",
       "      <td>2019-10-01 00:00:00</td>\n",
       "      <td>view</td>\n",
       "      <td>3900821</td>\n",
       "      <td>2053013552326770905</td>\n",
       "      <td>appliances.environment.water_heater</td>\n",
       "      <td>aqua</td>\n",
       "      <td>33.20</td>\n",
       "      <td>554748717</td>\n",
       "      <td>9333dfbd-b87a-4708-9857-6336556b0fcc</td>\n",
       "      <td>5547487179333dfbd-b87a-4708-9857-6336556b0fcc</td>\n",
       "      <td>appliances</td>\n",
       "      <td>environment</td>\n",
       "      <td>water_heater</td>\n",
       "    </tr>\n",
       "    <tr>\n",
       "      <th>2</th>\n",
       "      <td>2019-10-01 00:00:01</td>\n",
       "      <td>view</td>\n",
       "      <td>17200506</td>\n",
       "      <td>2053013559792632471</td>\n",
       "      <td>furniture.living_room.sofa</td>\n",
       "      <td>NaN</td>\n",
       "      <td>543.10</td>\n",
       "      <td>519107250</td>\n",
       "      <td>566511c2-e2e3-422b-b695-cf8e6e792ca8</td>\n",
       "      <td>519107250566511c2-e2e3-422b-b695-cf8e6e792ca8</td>\n",
       "      <td>furniture</td>\n",
       "      <td>living_room</td>\n",
       "      <td>sofa</td>\n",
       "    </tr>\n",
       "    <tr>\n",
       "      <th>3</th>\n",
       "      <td>2019-10-01 00:00:01</td>\n",
       "      <td>view</td>\n",
       "      <td>1307067</td>\n",
       "      <td>2053013558920217191</td>\n",
       "      <td>computers.notebook</td>\n",
       "      <td>lenovo</td>\n",
       "      <td>251.74</td>\n",
       "      <td>550050854</td>\n",
       "      <td>7c90fc70-0e80-4590-96f3-13c02c18c713</td>\n",
       "      <td>5500508547c90fc70-0e80-4590-96f3-13c02c18c713</td>\n",
       "      <td>computers</td>\n",
       "      <td>notebook</td>\n",
       "      <td>NaN</td>\n",
       "    </tr>\n",
       "    <tr>\n",
       "      <th>4</th>\n",
       "      <td>2019-10-01 00:00:04</td>\n",
       "      <td>view</td>\n",
       "      <td>1004237</td>\n",
       "      <td>2053013555631882655</td>\n",
       "      <td>electronics.smartphone</td>\n",
       "      <td>apple</td>\n",
       "      <td>1,081.98</td>\n",
       "      <td>535871217</td>\n",
       "      <td>c6bd7419-2748-4c56-95b4-8cec9ff8b80d</td>\n",
       "      <td>535871217c6bd7419-2748-4c56-95b4-8cec9ff8b80d</td>\n",
       "      <td>electronics</td>\n",
       "      <td>smartphone</td>\n",
       "      <td>NaN</td>\n",
       "    </tr>\n",
       "  </tbody>\n",
       "</table>\n",
       "</div>"
      ],
      "text/plain": [
       "            event_time event_type  product_id          category_id  \\\n",
       "0  2019-10-01 00:00:00       view    44600062  2103807459595387724   \n",
       "1  2019-10-01 00:00:00       view     3900821  2053013552326770905   \n",
       "2  2019-10-01 00:00:01       view    17200506  2053013559792632471   \n",
       "3  2019-10-01 00:00:01       view     1307067  2053013558920217191   \n",
       "4  2019-10-01 00:00:04       view     1004237  2053013555631882655   \n",
       "\n",
       "                         category_code     brand    price    user_id  \\\n",
       "0                                  NaN  shiseido    35.79  541312140   \n",
       "1  appliances.environment.water_heater      aqua    33.20  554748717   \n",
       "2           furniture.living_room.sofa       NaN   543.10  519107250   \n",
       "3                   computers.notebook    lenovo   251.74  550050854   \n",
       "4               electronics.smartphone     apple 1,081.98  535871217   \n",
       "\n",
       "                           user_session  \\\n",
       "0  72d76fde-8bb3-4e00-8c23-a032dfed738c   \n",
       "1  9333dfbd-b87a-4708-9857-6336556b0fcc   \n",
       "2  566511c2-e2e3-422b-b695-cf8e6e792ca8   \n",
       "3  7c90fc70-0e80-4590-96f3-13c02c18c713   \n",
       "4  c6bd7419-2748-4c56-95b4-8cec9ff8b80d   \n",
       "\n",
       "                                             key category_lcd category_mcd  \\\n",
       "0  54131214072d76fde-8bb3-4e00-8c23-a032dfed738c          NaN          NaN   \n",
       "1  5547487179333dfbd-b87a-4708-9857-6336556b0fcc   appliances  environment   \n",
       "2  519107250566511c2-e2e3-422b-b695-cf8e6e792ca8    furniture  living_room   \n",
       "3  5500508547c90fc70-0e80-4590-96f3-13c02c18c713    computers     notebook   \n",
       "4  535871217c6bd7419-2748-4c56-95b4-8cec9ff8b80d  electronics   smartphone   \n",
       "\n",
       "   category_scd  \n",
       "0           NaN  \n",
       "1  water_heater  \n",
       "2          sofa  \n",
       "3           NaN  \n",
       "4           NaN  "
      ]
     },
     "execution_count": 37,
     "metadata": {},
     "output_type": "execute_result"
    }
   ],
   "source": [
    "results_df2.head()"
   ]
  },
  {
   "cell_type": "code",
   "execution_count": 38,
   "metadata": {},
   "outputs": [
    {
     "data": {
      "text/plain": [
       "view       0.96\n",
       "cart       0.02\n",
       "purchase   0.02\n",
       "Name: event_type, dtype: float64"
      ]
     },
     "execution_count": 38,
     "metadata": {},
     "output_type": "execute_result"
    }
   ],
   "source": [
    "results_df2['event_type'].value_counts() / results_df2['event_type'].value_counts().sum()"
   ]
  },
  {
   "cell_type": "code",
   "execution_count": 39,
   "metadata": {},
   "outputs": [
    {
     "data": {
      "text/plain": [
       "42448764"
      ]
     },
     "execution_count": 39,
     "metadata": {},
     "output_type": "execute_result"
    }
   ],
   "source": [
    "results_df2['event_type'].value_counts().sum()"
   ]
  },
  {
   "cell_type": "code",
   "execution_count": 40,
   "metadata": {},
   "outputs": [],
   "source": [
    "is_purchase2 = results_df2.loc[results_df2[\"event_type\"] == \"purchase\", :]"
   ]
  },
  {
   "cell_type": "code",
   "execution_count": 41,
   "metadata": {},
   "outputs": [
    {
     "data": {
      "text/html": [
       "<div>\n",
       "<style scoped>\n",
       "    .dataframe tbody tr th:only-of-type {\n",
       "        vertical-align: middle;\n",
       "    }\n",
       "\n",
       "    .dataframe tbody tr th {\n",
       "        vertical-align: top;\n",
       "    }\n",
       "\n",
       "    .dataframe thead th {\n",
       "        text-align: right;\n",
       "    }\n",
       "</style>\n",
       "<table border=\"1\" class=\"dataframe\">\n",
       "  <thead>\n",
       "    <tr style=\"text-align: right;\">\n",
       "      <th></th>\n",
       "      <th>event_time</th>\n",
       "      <th>event_type</th>\n",
       "      <th>product_id</th>\n",
       "      <th>category_id</th>\n",
       "      <th>category_code</th>\n",
       "      <th>brand</th>\n",
       "      <th>price</th>\n",
       "      <th>user_id</th>\n",
       "      <th>user_session</th>\n",
       "      <th>key</th>\n",
       "      <th>category_lcd</th>\n",
       "      <th>category_mcd</th>\n",
       "      <th>category_scd</th>\n",
       "    </tr>\n",
       "  </thead>\n",
       "  <tbody>\n",
       "    <tr>\n",
       "      <th>162</th>\n",
       "      <td>2019-10-01 00:02:14</td>\n",
       "      <td>purchase</td>\n",
       "      <td>1004856</td>\n",
       "      <td>2053013555631882655</td>\n",
       "      <td>electronics.smartphone</td>\n",
       "      <td>samsung</td>\n",
       "      <td>130.76</td>\n",
       "      <td>543272936</td>\n",
       "      <td>8187d148-3c41-46d4-b0c0-9c08cd9dc564</td>\n",
       "      <td>5432729368187d148-3c41-46d4-b0c0-9c08cd9dc564</td>\n",
       "      <td>electronics</td>\n",
       "      <td>smartphone</td>\n",
       "      <td>NaN</td>\n",
       "    </tr>\n",
       "    <tr>\n",
       "      <th>308</th>\n",
       "      <td>2019-10-01 00:04:37</td>\n",
       "      <td>purchase</td>\n",
       "      <td>1002532</td>\n",
       "      <td>2053013555631882655</td>\n",
       "      <td>electronics.smartphone</td>\n",
       "      <td>apple</td>\n",
       "      <td>642.69</td>\n",
       "      <td>551377651</td>\n",
       "      <td>3c80f0d6-e9ec-4181-8c5c-837a30be2d68</td>\n",
       "      <td>5513776513c80f0d6-e9ec-4181-8c5c-837a30be2d68</td>\n",
       "      <td>electronics</td>\n",
       "      <td>smartphone</td>\n",
       "      <td>NaN</td>\n",
       "    </tr>\n",
       "    <tr>\n",
       "      <th>379</th>\n",
       "      <td>2019-10-01 00:06:02</td>\n",
       "      <td>purchase</td>\n",
       "      <td>5100816</td>\n",
       "      <td>2053013553375346967</td>\n",
       "      <td>NaN</td>\n",
       "      <td>xiaomi</td>\n",
       "      <td>29.51</td>\n",
       "      <td>514591159</td>\n",
       "      <td>0e5dfc4b-2a55-43e6-8c05-97e1f07fbb56</td>\n",
       "      <td>5145911590e5dfc4b-2a55-43e6-8c05-97e1f07fbb56</td>\n",
       "      <td>NaN</td>\n",
       "      <td>NaN</td>\n",
       "      <td>NaN</td>\n",
       "    </tr>\n",
       "    <tr>\n",
       "      <th>442</th>\n",
       "      <td>2019-10-01 00:07:07</td>\n",
       "      <td>purchase</td>\n",
       "      <td>13800054</td>\n",
       "      <td>2053013557418656265</td>\n",
       "      <td>furniture.bathroom.toilet</td>\n",
       "      <td>santeri</td>\n",
       "      <td>54.42</td>\n",
       "      <td>555332717</td>\n",
       "      <td>1dea3ee2-2ded-42e8-8e7a-4e2ad6ae942f</td>\n",
       "      <td>5553327171dea3ee2-2ded-42e8-8e7a-4e2ad6ae942f</td>\n",
       "      <td>furniture</td>\n",
       "      <td>bathroom</td>\n",
       "      <td>toilet</td>\n",
       "    </tr>\n",
       "    <tr>\n",
       "      <th>574</th>\n",
       "      <td>2019-10-01 00:09:26</td>\n",
       "      <td>purchase</td>\n",
       "      <td>4804055</td>\n",
       "      <td>2053013554658804075</td>\n",
       "      <td>electronics.audio.headphone</td>\n",
       "      <td>apple</td>\n",
       "      <td>189.91</td>\n",
       "      <td>524601178</td>\n",
       "      <td>2af9b570-0942-4dcd-8f25-4d84fba82553</td>\n",
       "      <td>5246011782af9b570-0942-4dcd-8f25-4d84fba82553</td>\n",
       "      <td>electronics</td>\n",
       "      <td>audio</td>\n",
       "      <td>headphone</td>\n",
       "    </tr>\n",
       "  </tbody>\n",
       "</table>\n",
       "</div>"
      ],
      "text/plain": [
       "              event_time event_type  product_id          category_id  \\\n",
       "162  2019-10-01 00:02:14   purchase     1004856  2053013555631882655   \n",
       "308  2019-10-01 00:04:37   purchase     1002532  2053013555631882655   \n",
       "379  2019-10-01 00:06:02   purchase     5100816  2053013553375346967   \n",
       "442  2019-10-01 00:07:07   purchase    13800054  2053013557418656265   \n",
       "574  2019-10-01 00:09:26   purchase     4804055  2053013554658804075   \n",
       "\n",
       "                   category_code    brand  price    user_id  \\\n",
       "162       electronics.smartphone  samsung 130.76  543272936   \n",
       "308       electronics.smartphone    apple 642.69  551377651   \n",
       "379                          NaN   xiaomi  29.51  514591159   \n",
       "442    furniture.bathroom.toilet  santeri  54.42  555332717   \n",
       "574  electronics.audio.headphone    apple 189.91  524601178   \n",
       "\n",
       "                             user_session  \\\n",
       "162  8187d148-3c41-46d4-b0c0-9c08cd9dc564   \n",
       "308  3c80f0d6-e9ec-4181-8c5c-837a30be2d68   \n",
       "379  0e5dfc4b-2a55-43e6-8c05-97e1f07fbb56   \n",
       "442  1dea3ee2-2ded-42e8-8e7a-4e2ad6ae942f   \n",
       "574  2af9b570-0942-4dcd-8f25-4d84fba82553   \n",
       "\n",
       "                                               key category_lcd category_mcd  \\\n",
       "162  5432729368187d148-3c41-46d4-b0c0-9c08cd9dc564  electronics   smartphone   \n",
       "308  5513776513c80f0d6-e9ec-4181-8c5c-837a30be2d68  electronics   smartphone   \n",
       "379  5145911590e5dfc4b-2a55-43e6-8c05-97e1f07fbb56          NaN          NaN   \n",
       "442  5553327171dea3ee2-2ded-42e8-8e7a-4e2ad6ae942f    furniture     bathroom   \n",
       "574  5246011782af9b570-0942-4dcd-8f25-4d84fba82553  electronics        audio   \n",
       "\n",
       "    category_scd  \n",
       "162          NaN  \n",
       "308          NaN  \n",
       "379          NaN  \n",
       "442       toilet  \n",
       "574    headphone  "
      ]
     },
     "execution_count": 41,
     "metadata": {},
     "output_type": "execute_result"
    }
   ],
   "source": [
    "is_purchase2.head()"
   ]
  },
  {
   "cell_type": "code",
   "execution_count": 42,
   "metadata": {},
   "outputs": [
    {
     "data": {
      "text/plain": [
       "(742849, 13)"
      ]
     },
     "execution_count": 42,
     "metadata": {},
     "output_type": "execute_result"
    }
   ],
   "source": [
    "is_purchase2.shape"
   ]
  },
  {
   "cell_type": "code",
   "execution_count": 43,
   "metadata": {},
   "outputs": [
    {
     "data": {
      "text/plain": [
       "pandas.core.frame.DataFrame"
      ]
     },
     "execution_count": 43,
     "metadata": {},
     "output_type": "execute_result"
    }
   ],
   "source": [
    "type(is_purchase2)"
   ]
  },
  {
   "cell_type": "code",
   "execution_count": 44,
   "metadata": {},
   "outputs": [
    {
     "data": {
      "text/html": [
       "<div>\n",
       "<style scoped>\n",
       "    .dataframe tbody tr th:only-of-type {\n",
       "        vertical-align: middle;\n",
       "    }\n",
       "\n",
       "    .dataframe tbody tr th {\n",
       "        vertical-align: top;\n",
       "    }\n",
       "\n",
       "    .dataframe thead th {\n",
       "        text-align: right;\n",
       "    }\n",
       "</style>\n",
       "<table border=\"1\" class=\"dataframe\">\n",
       "  <thead>\n",
       "    <tr style=\"text-align: right;\">\n",
       "      <th></th>\n",
       "      <th>event_time</th>\n",
       "      <th>event_type</th>\n",
       "      <th>product_id</th>\n",
       "      <th>category_id</th>\n",
       "      <th>category_code</th>\n",
       "      <th>brand</th>\n",
       "      <th>price</th>\n",
       "      <th>user_id</th>\n",
       "      <th>user_session</th>\n",
       "      <th>key</th>\n",
       "      <th>category_lcd</th>\n",
       "      <th>category_mcd</th>\n",
       "      <th>category_scd</th>\n",
       "    </tr>\n",
       "  </thead>\n",
       "  <tbody>\n",
       "    <tr>\n",
       "      <th>162</th>\n",
       "      <td>2019-10-01 00:02:14</td>\n",
       "      <td>purchase</td>\n",
       "      <td>1004856</td>\n",
       "      <td>2053013555631882655</td>\n",
       "      <td>electronics.smartphone</td>\n",
       "      <td>samsung</td>\n",
       "      <td>130.76</td>\n",
       "      <td>543272936</td>\n",
       "      <td>8187d148-3c41-46d4-b0c0-9c08cd9dc564</td>\n",
       "      <td>5432729368187d148-3c41-46d4-b0c0-9c08cd9dc564</td>\n",
       "      <td>electronics</td>\n",
       "      <td>smartphone</td>\n",
       "      <td>NaN</td>\n",
       "    </tr>\n",
       "    <tr>\n",
       "      <th>308</th>\n",
       "      <td>2019-10-01 00:04:37</td>\n",
       "      <td>purchase</td>\n",
       "      <td>1002532</td>\n",
       "      <td>2053013555631882655</td>\n",
       "      <td>electronics.smartphone</td>\n",
       "      <td>apple</td>\n",
       "      <td>642.69</td>\n",
       "      <td>551377651</td>\n",
       "      <td>3c80f0d6-e9ec-4181-8c5c-837a30be2d68</td>\n",
       "      <td>5513776513c80f0d6-e9ec-4181-8c5c-837a30be2d68</td>\n",
       "      <td>electronics</td>\n",
       "      <td>smartphone</td>\n",
       "      <td>NaN</td>\n",
       "    </tr>\n",
       "    <tr>\n",
       "      <th>379</th>\n",
       "      <td>2019-10-01 00:06:02</td>\n",
       "      <td>purchase</td>\n",
       "      <td>5100816</td>\n",
       "      <td>2053013553375346967</td>\n",
       "      <td>NaN</td>\n",
       "      <td>xiaomi</td>\n",
       "      <td>29.51</td>\n",
       "      <td>514591159</td>\n",
       "      <td>0e5dfc4b-2a55-43e6-8c05-97e1f07fbb56</td>\n",
       "      <td>5145911590e5dfc4b-2a55-43e6-8c05-97e1f07fbb56</td>\n",
       "      <td>NaN</td>\n",
       "      <td>NaN</td>\n",
       "      <td>NaN</td>\n",
       "    </tr>\n",
       "    <tr>\n",
       "      <th>442</th>\n",
       "      <td>2019-10-01 00:07:07</td>\n",
       "      <td>purchase</td>\n",
       "      <td>13800054</td>\n",
       "      <td>2053013557418656265</td>\n",
       "      <td>furniture.bathroom.toilet</td>\n",
       "      <td>santeri</td>\n",
       "      <td>54.42</td>\n",
       "      <td>555332717</td>\n",
       "      <td>1dea3ee2-2ded-42e8-8e7a-4e2ad6ae942f</td>\n",
       "      <td>5553327171dea3ee2-2ded-42e8-8e7a-4e2ad6ae942f</td>\n",
       "      <td>furniture</td>\n",
       "      <td>bathroom</td>\n",
       "      <td>toilet</td>\n",
       "    </tr>\n",
       "    <tr>\n",
       "      <th>574</th>\n",
       "      <td>2019-10-01 00:09:26</td>\n",
       "      <td>purchase</td>\n",
       "      <td>4804055</td>\n",
       "      <td>2053013554658804075</td>\n",
       "      <td>electronics.audio.headphone</td>\n",
       "      <td>apple</td>\n",
       "      <td>189.91</td>\n",
       "      <td>524601178</td>\n",
       "      <td>2af9b570-0942-4dcd-8f25-4d84fba82553</td>\n",
       "      <td>5246011782af9b570-0942-4dcd-8f25-4d84fba82553</td>\n",
       "      <td>electronics</td>\n",
       "      <td>audio</td>\n",
       "      <td>headphone</td>\n",
       "    </tr>\n",
       "  </tbody>\n",
       "</table>\n",
       "</div>"
      ],
      "text/plain": [
       "              event_time event_type  product_id          category_id  \\\n",
       "162  2019-10-01 00:02:14   purchase     1004856  2053013555631882655   \n",
       "308  2019-10-01 00:04:37   purchase     1002532  2053013555631882655   \n",
       "379  2019-10-01 00:06:02   purchase     5100816  2053013553375346967   \n",
       "442  2019-10-01 00:07:07   purchase    13800054  2053013557418656265   \n",
       "574  2019-10-01 00:09:26   purchase     4804055  2053013554658804075   \n",
       "\n",
       "                   category_code    brand  price    user_id  \\\n",
       "162       electronics.smartphone  samsung 130.76  543272936   \n",
       "308       electronics.smartphone    apple 642.69  551377651   \n",
       "379                          NaN   xiaomi  29.51  514591159   \n",
       "442    furniture.bathroom.toilet  santeri  54.42  555332717   \n",
       "574  electronics.audio.headphone    apple 189.91  524601178   \n",
       "\n",
       "                             user_session  \\\n",
       "162  8187d148-3c41-46d4-b0c0-9c08cd9dc564   \n",
       "308  3c80f0d6-e9ec-4181-8c5c-837a30be2d68   \n",
       "379  0e5dfc4b-2a55-43e6-8c05-97e1f07fbb56   \n",
       "442  1dea3ee2-2ded-42e8-8e7a-4e2ad6ae942f   \n",
       "574  2af9b570-0942-4dcd-8f25-4d84fba82553   \n",
       "\n",
       "                                               key category_lcd category_mcd  \\\n",
       "162  5432729368187d148-3c41-46d4-b0c0-9c08cd9dc564  electronics   smartphone   \n",
       "308  5513776513c80f0d6-e9ec-4181-8c5c-837a30be2d68  electronics   smartphone   \n",
       "379  5145911590e5dfc4b-2a55-43e6-8c05-97e1f07fbb56          NaN          NaN   \n",
       "442  5553327171dea3ee2-2ded-42e8-8e7a-4e2ad6ae942f    furniture     bathroom   \n",
       "574  5246011782af9b570-0942-4dcd-8f25-4d84fba82553  electronics        audio   \n",
       "\n",
       "    category_scd  \n",
       "162          NaN  \n",
       "308          NaN  \n",
       "379          NaN  \n",
       "442       toilet  \n",
       "574    headphone  "
      ]
     },
     "execution_count": 44,
     "metadata": {},
     "output_type": "execute_result"
    }
   ],
   "source": [
    "is_purchase2.sort_values([\"event_time\"]).head()"
   ]
  },
  {
   "cell_type": "code",
   "execution_count": 45,
   "metadata": {},
   "outputs": [
    {
     "data": {
      "text/html": [
       "<div>\n",
       "<style scoped>\n",
       "    .dataframe tbody tr th:only-of-type {\n",
       "        vertical-align: middle;\n",
       "    }\n",
       "\n",
       "    .dataframe tbody tr th {\n",
       "        vertical-align: top;\n",
       "    }\n",
       "\n",
       "    .dataframe thead th {\n",
       "        text-align: right;\n",
       "    }\n",
       "</style>\n",
       "<table border=\"1\" class=\"dataframe\">\n",
       "  <thead>\n",
       "    <tr style=\"text-align: right;\">\n",
       "      <th></th>\n",
       "      <th>product_id</th>\n",
       "      <th>category_id</th>\n",
       "      <th>price</th>\n",
       "      <th>user_id</th>\n",
       "    </tr>\n",
       "  </thead>\n",
       "  <tbody>\n",
       "    <tr>\n",
       "      <th>count</th>\n",
       "      <td>742,849.00</td>\n",
       "      <td>742,849.00</td>\n",
       "      <td>742,849.00</td>\n",
       "      <td>742,849.00</td>\n",
       "    </tr>\n",
       "    <tr>\n",
       "      <th>mean</th>\n",
       "      <td>6,492,306.76</td>\n",
       "      <td>2,054,951,138,215,665,408.00</td>\n",
       "      <td>309.56</td>\n",
       "      <td>535,610,110.93</td>\n",
       "    </tr>\n",
       "    <tr>\n",
       "      <th>std</th>\n",
       "      <td>8,855,381.10</td>\n",
       "      <td>13,158,754,607,994,414.00</td>\n",
       "      <td>348.87</td>\n",
       "      <td>18,263,111.94</td>\n",
       "    </tr>\n",
       "    <tr>\n",
       "      <th>min</th>\n",
       "      <td>1,000,978.00</td>\n",
       "      <td>2,053,013,552,226,107,648.00</td>\n",
       "      <td>0.77</td>\n",
       "      <td>264,649,825.00</td>\n",
       "    </tr>\n",
       "    <tr>\n",
       "      <th>25%</th>\n",
       "      <td>1,004,839.00</td>\n",
       "      <td>2,053,013,555,355,058,688.00</td>\n",
       "      <td>87.49</td>\n",
       "      <td>516,700,256.00</td>\n",
       "    </tr>\n",
       "    <tr>\n",
       "      <th>50%</th>\n",
       "      <td>1,801,739.00</td>\n",
       "      <td>2,053,013,555,631,882,752.00</td>\n",
       "      <td>179.84</td>\n",
       "      <td>535,134,939.00</td>\n",
       "    </tr>\n",
       "    <tr>\n",
       "      <th>75%</th>\n",
       "      <td>8,700,430.00</td>\n",
       "      <td>2,053,013,558,190,408,192.00</td>\n",
       "      <td>375.21</td>\n",
       "      <td>553,667,019.00</td>\n",
       "    </tr>\n",
       "    <tr>\n",
       "      <th>max</th>\n",
       "      <td>60,500,009.00</td>\n",
       "      <td>2,175,419,595,093,967,616.00</td>\n",
       "      <td>2,574.07</td>\n",
       "      <td>566,278,294.00</td>\n",
       "    </tr>\n",
       "  </tbody>\n",
       "</table>\n",
       "</div>"
      ],
      "text/plain": [
       "         product_id                  category_id      price        user_id\n",
       "count    742,849.00                   742,849.00 742,849.00     742,849.00\n",
       "mean   6,492,306.76 2,054,951,138,215,665,408.00     309.56 535,610,110.93\n",
       "std    8,855,381.10    13,158,754,607,994,414.00     348.87  18,263,111.94\n",
       "min    1,000,978.00 2,053,013,552,226,107,648.00       0.77 264,649,825.00\n",
       "25%    1,004,839.00 2,053,013,555,355,058,688.00      87.49 516,700,256.00\n",
       "50%    1,801,739.00 2,053,013,555,631,882,752.00     179.84 535,134,939.00\n",
       "75%    8,700,430.00 2,053,013,558,190,408,192.00     375.21 553,667,019.00\n",
       "max   60,500,009.00 2,175,419,595,093,967,616.00   2,574.07 566,278,294.00"
      ]
     },
     "execution_count": 45,
     "metadata": {},
     "output_type": "execute_result"
    }
   ],
   "source": [
    "is_purchase2.describe()"
   ]
  },
  {
   "cell_type": "code",
   "execution_count": 46,
   "metadata": {},
   "outputs": [
    {
     "data": {
      "text/html": [
       "<div>\n",
       "<style scoped>\n",
       "    .dataframe tbody tr th:only-of-type {\n",
       "        vertical-align: middle;\n",
       "    }\n",
       "\n",
       "    .dataframe tbody tr th {\n",
       "        vertical-align: top;\n",
       "    }\n",
       "\n",
       "    .dataframe thead th {\n",
       "        text-align: right;\n",
       "    }\n",
       "</style>\n",
       "<table border=\"1\" class=\"dataframe\">\n",
       "  <thead>\n",
       "    <tr style=\"text-align: right;\">\n",
       "      <th></th>\n",
       "      <th>brd</th>\n",
       "    </tr>\n",
       "  </thead>\n",
       "  <tbody>\n",
       "    <tr>\n",
       "      <th>0</th>\n",
       "      <td>543272936</td>\n",
       "    </tr>\n",
       "    <tr>\n",
       "      <th>1</th>\n",
       "      <td>551377651</td>\n",
       "    </tr>\n",
       "    <tr>\n",
       "      <th>2</th>\n",
       "      <td>514591159</td>\n",
       "    </tr>\n",
       "    <tr>\n",
       "      <th>3</th>\n",
       "      <td>555332717</td>\n",
       "    </tr>\n",
       "    <tr>\n",
       "      <th>4</th>\n",
       "      <td>524601178</td>\n",
       "    </tr>\n",
       "    <tr>\n",
       "      <th>...</th>\n",
       "      <td>...</td>\n",
       "    </tr>\n",
       "    <tr>\n",
       "      <th>347113</th>\n",
       "      <td>555466772</td>\n",
       "    </tr>\n",
       "    <tr>\n",
       "      <th>347114</th>\n",
       "      <td>514503441</td>\n",
       "    </tr>\n",
       "    <tr>\n",
       "      <th>347115</th>\n",
       "      <td>514905226</td>\n",
       "    </tr>\n",
       "    <tr>\n",
       "      <th>347116</th>\n",
       "      <td>544501248</td>\n",
       "    </tr>\n",
       "    <tr>\n",
       "      <th>347117</th>\n",
       "      <td>516662286</td>\n",
       "    </tr>\n",
       "  </tbody>\n",
       "</table>\n",
       "<p>347118 rows × 1 columns</p>\n",
       "</div>"
      ],
      "text/plain": [
       "              brd\n",
       "0       543272936\n",
       "1       551377651\n",
       "2       514591159\n",
       "3       555332717\n",
       "4       524601178\n",
       "...           ...\n",
       "347113  555466772\n",
       "347114  514503441\n",
       "347115  514905226\n",
       "347116  544501248\n",
       "347117  516662286\n",
       "\n",
       "[347118 rows x 1 columns]"
      ]
     },
     "execution_count": 46,
     "metadata": {},
     "output_type": "execute_result"
    }
   ],
   "source": [
    "pd.DataFrame(is_purchase2['user_id'].unique(), columns = ['brd'])"
   ]
  },
  {
   "cell_type": "code",
   "execution_count": 47,
   "metadata": {},
   "outputs": [
    {
     "data": {
      "text/html": [
       "<div>\n",
       "<style scoped>\n",
       "    .dataframe tbody tr th:only-of-type {\n",
       "        vertical-align: middle;\n",
       "    }\n",
       "\n",
       "    .dataframe tbody tr th {\n",
       "        vertical-align: top;\n",
       "    }\n",
       "\n",
       "    .dataframe thead th {\n",
       "        text-align: right;\n",
       "    }\n",
       "</style>\n",
       "<table border=\"1\" class=\"dataframe\">\n",
       "  <thead>\n",
       "    <tr style=\"text-align: right;\">\n",
       "      <th></th>\n",
       "      <th>uid</th>\n",
       "    </tr>\n",
       "  </thead>\n",
       "  <tbody>\n",
       "    <tr>\n",
       "      <th>0</th>\n",
       "      <td>543272936</td>\n",
       "    </tr>\n",
       "    <tr>\n",
       "      <th>1</th>\n",
       "      <td>551377651</td>\n",
       "    </tr>\n",
       "    <tr>\n",
       "      <th>2</th>\n",
       "      <td>514591159</td>\n",
       "    </tr>\n",
       "    <tr>\n",
       "      <th>3</th>\n",
       "      <td>555332717</td>\n",
       "    </tr>\n",
       "    <tr>\n",
       "      <th>4</th>\n",
       "      <td>524601178</td>\n",
       "    </tr>\n",
       "    <tr>\n",
       "      <th>...</th>\n",
       "      <td>...</td>\n",
       "    </tr>\n",
       "    <tr>\n",
       "      <th>347113</th>\n",
       "      <td>555466772</td>\n",
       "    </tr>\n",
       "    <tr>\n",
       "      <th>347114</th>\n",
       "      <td>514503441</td>\n",
       "    </tr>\n",
       "    <tr>\n",
       "      <th>347115</th>\n",
       "      <td>514905226</td>\n",
       "    </tr>\n",
       "    <tr>\n",
       "      <th>347116</th>\n",
       "      <td>544501248</td>\n",
       "    </tr>\n",
       "    <tr>\n",
       "      <th>347117</th>\n",
       "      <td>516662286</td>\n",
       "    </tr>\n",
       "  </tbody>\n",
       "</table>\n",
       "<p>347118 rows × 1 columns</p>\n",
       "</div>"
      ],
      "text/plain": [
       "              uid\n",
       "0       543272936\n",
       "1       551377651\n",
       "2       514591159\n",
       "3       555332717\n",
       "4       524601178\n",
       "...           ...\n",
       "347113  555466772\n",
       "347114  514503441\n",
       "347115  514905226\n",
       "347116  544501248\n",
       "347117  516662286\n",
       "\n",
       "[347118 rows x 1 columns]"
      ]
     },
     "execution_count": 47,
     "metadata": {},
     "output_type": "execute_result"
    }
   ],
   "source": [
    "pd.DataFrame(is_purchase2['user_id'].unique(), columns = ['uid'])"
   ]
  },
  {
   "cell_type": "code",
   "execution_count": 48,
   "metadata": {},
   "outputs": [
    {
     "data": {
      "text/plain": [
       "512386086    322\n",
       "523974502    291\n",
       "513320236    242\n",
       "517728689    204\n",
       "543312954    193\n",
       "            ... \n",
       "512751900      1\n",
       "564800010      1\n",
       "515852554      1\n",
       "558305681      1\n",
       "555106918      1\n",
       "Name: user_id, Length: 347118, dtype: int64"
      ]
     },
     "execution_count": 48,
     "metadata": {},
     "output_type": "execute_result"
    }
   ],
   "source": [
    "is_purchase2['user_id'].value_counts()"
   ]
  },
  {
   "cell_type": "code",
   "execution_count": 49,
   "metadata": {},
   "outputs": [
    {
     "data": {
      "text/html": [
       "<div>\n",
       "<style scoped>\n",
       "    .dataframe tbody tr th:only-of-type {\n",
       "        vertical-align: middle;\n",
       "    }\n",
       "\n",
       "    .dataframe tbody tr th {\n",
       "        vertical-align: top;\n",
       "    }\n",
       "\n",
       "    .dataframe thead th {\n",
       "        text-align: right;\n",
       "    }\n",
       "</style>\n",
       "<table border=\"1\" class=\"dataframe\">\n",
       "  <thead>\n",
       "    <tr style=\"text-align: right;\">\n",
       "      <th></th>\n",
       "      <th>event_time</th>\n",
       "      <th>event_type</th>\n",
       "      <th>product_id</th>\n",
       "      <th>category_id</th>\n",
       "      <th>category_code</th>\n",
       "      <th>brand</th>\n",
       "      <th>price</th>\n",
       "      <th>user_id</th>\n",
       "      <th>user_session</th>\n",
       "      <th>key</th>\n",
       "      <th>category_lcd</th>\n",
       "      <th>category_mcd</th>\n",
       "      <th>category_scd</th>\n",
       "    </tr>\n",
       "  </thead>\n",
       "  <tbody>\n",
       "    <tr>\n",
       "      <th>20815815</th>\n",
       "      <td>2019-10-16 07:20:25</td>\n",
       "      <td>purchase</td>\n",
       "      <td>1004227</td>\n",
       "      <td>2053013555631882655</td>\n",
       "      <td>electronics.smartphone</td>\n",
       "      <td>apple</td>\n",
       "      <td>1,005.11</td>\n",
       "      <td>512386086</td>\n",
       "      <td>0254a406-6374-434c-a5c4-fc6587a940f2</td>\n",
       "      <td>5123860860254a406-6374-434c-a5c4-fc6587a940f2</td>\n",
       "      <td>electronics</td>\n",
       "      <td>smartphone</td>\n",
       "      <td>NaN</td>\n",
       "    </tr>\n",
       "    <tr>\n",
       "      <th>18009096</th>\n",
       "      <td>2019-10-14 09:46:12</td>\n",
       "      <td>purchase</td>\n",
       "      <td>1004873</td>\n",
       "      <td>2053013555631882655</td>\n",
       "      <td>electronics.smartphone</td>\n",
       "      <td>samsung</td>\n",
       "      <td>378.53</td>\n",
       "      <td>512386086</td>\n",
       "      <td>0467ea95-0b24-4495-b23a-b66611775125</td>\n",
       "      <td>5123860860467ea95-0b24-4495-b23a-b66611775125</td>\n",
       "      <td>electronics</td>\n",
       "      <td>smartphone</td>\n",
       "      <td>NaN</td>\n",
       "    </tr>\n",
       "    <tr>\n",
       "      <th>18011570</th>\n",
       "      <td>2019-10-14 09:48:00</td>\n",
       "      <td>purchase</td>\n",
       "      <td>1004767</td>\n",
       "      <td>2053013555631882655</td>\n",
       "      <td>electronics.smartphone</td>\n",
       "      <td>samsung</td>\n",
       "      <td>250.82</td>\n",
       "      <td>512386086</td>\n",
       "      <td>0467ea95-0b24-4495-b23a-b66611775125</td>\n",
       "      <td>5123860860467ea95-0b24-4495-b23a-b66611775125</td>\n",
       "      <td>electronics</td>\n",
       "      <td>smartphone</td>\n",
       "      <td>NaN</td>\n",
       "    </tr>\n",
       "    <tr>\n",
       "      <th>21346687</th>\n",
       "      <td>2019-10-16 13:34:37</td>\n",
       "      <td>purchase</td>\n",
       "      <td>1801555</td>\n",
       "      <td>2053013554415534427</td>\n",
       "      <td>electronics.video.tv</td>\n",
       "      <td>lg</td>\n",
       "      <td>462.05</td>\n",
       "      <td>512386086</td>\n",
       "      <td>066feac3-b887-40ce-be49-b75bc042cc81</td>\n",
       "      <td>512386086066feac3-b887-40ce-be49-b75bc042cc81</td>\n",
       "      <td>electronics</td>\n",
       "      <td>video</td>\n",
       "      <td>tv</td>\n",
       "    </tr>\n",
       "    <tr>\n",
       "      <th>21378483</th>\n",
       "      <td>2019-10-16 13:54:44</td>\n",
       "      <td>purchase</td>\n",
       "      <td>1004767</td>\n",
       "      <td>2053013555631882655</td>\n",
       "      <td>electronics.smartphone</td>\n",
       "      <td>samsung</td>\n",
       "      <td>250.69</td>\n",
       "      <td>512386086</td>\n",
       "      <td>070c2556-a845-4186-b110-74c7de6b5f06</td>\n",
       "      <td>512386086070c2556-a845-4186-b110-74c7de6b5f06</td>\n",
       "      <td>electronics</td>\n",
       "      <td>smartphone</td>\n",
       "      <td>NaN</td>\n",
       "    </tr>\n",
       "    <tr>\n",
       "      <th>...</th>\n",
       "      <td>...</td>\n",
       "      <td>...</td>\n",
       "      <td>...</td>\n",
       "      <td>...</td>\n",
       "      <td>...</td>\n",
       "      <td>...</td>\n",
       "      <td>...</td>\n",
       "      <td>...</td>\n",
       "      <td>...</td>\n",
       "      <td>...</td>\n",
       "      <td>...</td>\n",
       "      <td>...</td>\n",
       "      <td>...</td>\n",
       "    </tr>\n",
       "    <tr>\n",
       "      <th>25317578</th>\n",
       "      <td>2019-10-19 08:32:03</td>\n",
       "      <td>purchase</td>\n",
       "      <td>4201541</td>\n",
       "      <td>2053013552351936731</td>\n",
       "      <td>appliances.environment.air_conditioner</td>\n",
       "      <td>artel</td>\n",
       "      <td>898.35</td>\n",
       "      <td>512386086</td>\n",
       "      <td>fa6e68d7-d510-416c-86d9-26f2fb98900d</td>\n",
       "      <td>512386086fa6e68d7-d510-416c-86d9-26f2fb98900d</td>\n",
       "      <td>appliances</td>\n",
       "      <td>environment</td>\n",
       "      <td>air_conditioner</td>\n",
       "    </tr>\n",
       "    <tr>\n",
       "      <th>32582070</th>\n",
       "      <td>2019-10-24 10:43:58</td>\n",
       "      <td>purchase</td>\n",
       "      <td>1801555</td>\n",
       "      <td>2053013554415534427</td>\n",
       "      <td>electronics.video.tv</td>\n",
       "      <td>lg</td>\n",
       "      <td>459.21</td>\n",
       "      <td>512386086</td>\n",
       "      <td>fb339712-a4bd-47c0-b419-77e026a8ecc8</td>\n",
       "      <td>512386086fb339712-a4bd-47c0-b419-77e026a8ecc8</td>\n",
       "      <td>electronics</td>\n",
       "      <td>video</td>\n",
       "      <td>tv</td>\n",
       "    </tr>\n",
       "    <tr>\n",
       "      <th>21205080</th>\n",
       "      <td>2019-10-16 11:50:07</td>\n",
       "      <td>purchase</td>\n",
       "      <td>1004227</td>\n",
       "      <td>2053013555631882655</td>\n",
       "      <td>electronics.smartphone</td>\n",
       "      <td>apple</td>\n",
       "      <td>1,005.11</td>\n",
       "      <td>512386086</td>\n",
       "      <td>fbc6865a-a9b1-4a78-994b-665a0cb86218</td>\n",
       "      <td>512386086fbc6865a-a9b1-4a78-994b-665a0cb86218</td>\n",
       "      <td>electronics</td>\n",
       "      <td>smartphone</td>\n",
       "      <td>NaN</td>\n",
       "    </tr>\n",
       "    <tr>\n",
       "      <th>10521742</th>\n",
       "      <td>2019-10-09 06:59:32</td>\n",
       "      <td>purchase</td>\n",
       "      <td>1801555</td>\n",
       "      <td>2053013554415534427</td>\n",
       "      <td>electronics.video.tv</td>\n",
       "      <td>lg</td>\n",
       "      <td>460.50</td>\n",
       "      <td>512386086</td>\n",
       "      <td>fc88225f-fb27-4df8-8e8a-0985d012c7b9</td>\n",
       "      <td>512386086fc88225f-fb27-4df8-8e8a-0985d012c7b9</td>\n",
       "      <td>electronics</td>\n",
       "      <td>video</td>\n",
       "      <td>tv</td>\n",
       "    </tr>\n",
       "    <tr>\n",
       "      <th>10527049</th>\n",
       "      <td>2019-10-09 07:04:04</td>\n",
       "      <td>purchase</td>\n",
       "      <td>1004767</td>\n",
       "      <td>2053013555631882655</td>\n",
       "      <td>electronics.smartphone</td>\n",
       "      <td>samsung</td>\n",
       "      <td>250.96</td>\n",
       "      <td>512386086</td>\n",
       "      <td>fc88225f-fb27-4df8-8e8a-0985d012c7b9</td>\n",
       "      <td>512386086fc88225f-fb27-4df8-8e8a-0985d012c7b9</td>\n",
       "      <td>electronics</td>\n",
       "      <td>smartphone</td>\n",
       "      <td>NaN</td>\n",
       "    </tr>\n",
       "  </tbody>\n",
       "</table>\n",
       "<p>322 rows × 13 columns</p>\n",
       "</div>"
      ],
      "text/plain": [
       "                   event_time event_type  product_id          category_id  \\\n",
       "20815815  2019-10-16 07:20:25   purchase     1004227  2053013555631882655   \n",
       "18009096  2019-10-14 09:46:12   purchase     1004873  2053013555631882655   \n",
       "18011570  2019-10-14 09:48:00   purchase     1004767  2053013555631882655   \n",
       "21346687  2019-10-16 13:34:37   purchase     1801555  2053013554415534427   \n",
       "21378483  2019-10-16 13:54:44   purchase     1004767  2053013555631882655   \n",
       "...                       ...        ...         ...                  ...   \n",
       "25317578  2019-10-19 08:32:03   purchase     4201541  2053013552351936731   \n",
       "32582070  2019-10-24 10:43:58   purchase     1801555  2053013554415534427   \n",
       "21205080  2019-10-16 11:50:07   purchase     1004227  2053013555631882655   \n",
       "10521742  2019-10-09 06:59:32   purchase     1801555  2053013554415534427   \n",
       "10527049  2019-10-09 07:04:04   purchase     1004767  2053013555631882655   \n",
       "\n",
       "                                   category_code    brand    price    user_id  \\\n",
       "20815815                  electronics.smartphone    apple 1,005.11  512386086   \n",
       "18009096                  electronics.smartphone  samsung   378.53  512386086   \n",
       "18011570                  electronics.smartphone  samsung   250.82  512386086   \n",
       "21346687                    electronics.video.tv       lg   462.05  512386086   \n",
       "21378483                  electronics.smartphone  samsung   250.69  512386086   \n",
       "...                                          ...      ...      ...        ...   \n",
       "25317578  appliances.environment.air_conditioner    artel   898.35  512386086   \n",
       "32582070                    electronics.video.tv       lg   459.21  512386086   \n",
       "21205080                  electronics.smartphone    apple 1,005.11  512386086   \n",
       "10521742                    electronics.video.tv       lg   460.50  512386086   \n",
       "10527049                  electronics.smartphone  samsung   250.96  512386086   \n",
       "\n",
       "                                  user_session  \\\n",
       "20815815  0254a406-6374-434c-a5c4-fc6587a940f2   \n",
       "18009096  0467ea95-0b24-4495-b23a-b66611775125   \n",
       "18011570  0467ea95-0b24-4495-b23a-b66611775125   \n",
       "21346687  066feac3-b887-40ce-be49-b75bc042cc81   \n",
       "21378483  070c2556-a845-4186-b110-74c7de6b5f06   \n",
       "...                                        ...   \n",
       "25317578  fa6e68d7-d510-416c-86d9-26f2fb98900d   \n",
       "32582070  fb339712-a4bd-47c0-b419-77e026a8ecc8   \n",
       "21205080  fbc6865a-a9b1-4a78-994b-665a0cb86218   \n",
       "10521742  fc88225f-fb27-4df8-8e8a-0985d012c7b9   \n",
       "10527049  fc88225f-fb27-4df8-8e8a-0985d012c7b9   \n",
       "\n",
       "                                                    key category_lcd  \\\n",
       "20815815  5123860860254a406-6374-434c-a5c4-fc6587a940f2  electronics   \n",
       "18009096  5123860860467ea95-0b24-4495-b23a-b66611775125  electronics   \n",
       "18011570  5123860860467ea95-0b24-4495-b23a-b66611775125  electronics   \n",
       "21346687  512386086066feac3-b887-40ce-be49-b75bc042cc81  electronics   \n",
       "21378483  512386086070c2556-a845-4186-b110-74c7de6b5f06  electronics   \n",
       "...                                                 ...          ...   \n",
       "25317578  512386086fa6e68d7-d510-416c-86d9-26f2fb98900d   appliances   \n",
       "32582070  512386086fb339712-a4bd-47c0-b419-77e026a8ecc8  electronics   \n",
       "21205080  512386086fbc6865a-a9b1-4a78-994b-665a0cb86218  electronics   \n",
       "10521742  512386086fc88225f-fb27-4df8-8e8a-0985d012c7b9  electronics   \n",
       "10527049  512386086fc88225f-fb27-4df8-8e8a-0985d012c7b9  electronics   \n",
       "\n",
       "         category_mcd     category_scd  \n",
       "20815815   smartphone              NaN  \n",
       "18009096   smartphone              NaN  \n",
       "18011570   smartphone              NaN  \n",
       "21346687        video               tv  \n",
       "21378483   smartphone              NaN  \n",
       "...               ...              ...  \n",
       "25317578  environment  air_conditioner  \n",
       "32582070        video               tv  \n",
       "21205080   smartphone              NaN  \n",
       "10521742        video               tv  \n",
       "10527049   smartphone              NaN  \n",
       "\n",
       "[322 rows x 13 columns]"
      ]
     },
     "execution_count": 49,
     "metadata": {},
     "output_type": "execute_result"
    }
   ],
   "source": [
    "is_purchase2.loc[is_purchase2[\"user_id\"] == 512386086, :].sort_values(by=[\"user_session\"])"
   ]
  },
  {
   "cell_type": "code",
   "execution_count": 50,
   "metadata": {},
   "outputs": [],
   "source": [
    "is_purchase2.to_csv(\"2019-Oct_purchase.csv\")"
   ]
  },
  {
   "cell_type": "code",
   "execution_count": null,
   "metadata": {},
   "outputs": [],
   "source": []
  }
 ],
 "metadata": {
  "kernelspec": {
   "display_name": "Python 3",
   "language": "python",
   "name": "python3"
  },
  "language_info": {
   "codemirror_mode": {
    "name": "ipython",
    "version": 3
   },
   "file_extension": ".py",
   "mimetype": "text/x-python",
   "name": "python",
   "nbconvert_exporter": "python",
   "pygments_lexer": "ipython3",
   "version": "3.7.6"
  }
 },
 "nbformat": 4,
 "nbformat_minor": 4
}
